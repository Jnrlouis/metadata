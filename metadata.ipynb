{
 "cells": [
  {
   "cell_type": "code",
   "execution_count": null,
   "metadata": {},
   "outputs": [],
   "source": [
    "# How it works:\n",
    "# Input the name of the project\n",
    "# Give a detailed description and \n",
    "# image link, you'll also include the image extention, e.g jpg, png, etc.\n",
    "# Input the number of NFTs in the collection\n",
    "# Then all the metadata would be exported to a folder.\n",
    "# \n",
    "# Example, a Debbie NFT Collection with 3 cute NFTs\n",
    "# Final folder structure:\n",
    "#\n",
    "# metadata\n",
    "#   1.json\n",
    "#   2.json\n",
    "#   3.json\n",
    "#\n",
    "#   1.json would contain \n",
    "#       {\n",
    "#           \"name\": \"Debbie #1\"\n",
    "#           \"description\": \"Twitter gal\"\n",
    "#           \"image\": \"http://debbie/1.png\"\n",
    "#       }\n",
    "#\n",
    "#"
   ]
  },
  {
   "cell_type": "code",
   "execution_count": 12,
   "metadata": {},
   "outputs": [],
   "source": [
    "def metadata():\n",
    "    name_of_nft = input(\"please enter nft name: \")\n",
    "    ipfs_link = input(\"ipfs link please: \")\n",
    "    basic_description = input(\"Describe this nft: \")\n",
    "    file_format = input(\"file format like mp4, png, jpg: \")\n",
    "    count=1000\n",
    "    count+=1\n",
    "    \n",
    "    unique = name_of_nft[0] + ipfs_link[-25:] + file_format[0] + str(count) + ipfs_link[20:30] + file_format[-1]\n",
    "    \n",
    "    \n",
    "    thisdict = {\n",
    "        'name': name_of_nft,\n",
    "        'description': basic_description,\n",
    "        'ipfs link' : ipfs_link,\n",
    "        'unique_key': unique \n",
    "        }\n",
    "    return thisdict"
   ]
  },
  {
   "cell_type": "code",
   "execution_count": null,
   "metadata": {},
   "outputs": [
    {
     "name": "stdout",
     "output_type": "stream",
     "text": [
      "please enter nft name: circum\n",
      "ipfs link please: https://ipfs.io/ipfs/QmPprWxk6CFAsX1cEgzofUwYr6gkTtw38Qhd7XnXcLJ2tW\n",
      "under 10 words,describe this nft: circumference\n"
     ]
    }
   ],
   "source": [
    "metadata()"
   ]
  },
  {
   "cell_type": "code",
   "execution_count": null,
   "metadata": {},
   "outputs": [],
   "source": []
  },
  {
   "cell_type": "code",
   "execution_count": null,
   "metadata": {},
   "outputs": [],
   "source": []
  }
 ],
 "metadata": {
  "kernelspec": {
   "display_name": "Python 3",
   "language": "python",
   "name": "python3"
  },
  "language_info": {
   "codemirror_mode": {
    "name": "ipython",
    "version": 3
   },
   "file_extension": ".py",
   "mimetype": "text/x-python",
   "name": "python",
   "nbconvert_exporter": "python",
   "pygments_lexer": "ipython3",
   "version": "3.7.6"
  }
 },
 "nbformat": 4,
 "nbformat_minor": 4
}
